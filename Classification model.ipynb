{
 "cells": [
  {
   "cell_type": "markdown",
   "id": "c66dc196-0ada-4e71-b770-2a0e87e9e898",
   "metadata": {},
   "source": [
    "Name : Ishika Chittora\n",
    "Aim : Implement a support vector machine (SVM) to classify images of cats and dogs from the Kaggle dataset."
   ]
  },
  {
   "cell_type": "code",
   "execution_count": 90,
   "id": "9c1df65e-3275-4ebd-a12c-a06f97e24812",
   "metadata": {},
   "outputs": [],
   "source": [
    "import numpy as np\n",
    "import matplotlib.pyplot as plt\n",
    "import os\n",
    "import pickle\n",
    "import random\n",
    "from sklearn.svm import SVC\n",
    "from sklearn.model_selection import train_test_split \n",
    "import cv2\n",
    "import warnings\n",
    "warnings.filterwarnings('ignore')"
   ]
  },
  {
   "cell_type": "markdown",
   "id": "36112b00-06a2-4372-a10c-e0119ee18dc2",
   "metadata": {},
   "source": [
    "#load the image and convert it to dataframe"
   ]
  },
  {
   "cell_type": "code",
   "execution_count": 91,
   "id": "9551a74f-77e3-498d-b222-603e7b660150",
   "metadata": {},
   "outputs": [],
   "source": [
    "dir = 'C:\\\\Users\\\\ISHIKA JAIN\\\\Downloads\\\\test_set\\\\test_set'"
   ]
  },
  {
   "cell_type": "code",
   "execution_count": 92,
   "id": "6fca02d3-3988-46f3-a020-34034ed514de",
   "metadata": {},
   "outputs": [],
   "source": [
    "categories = ['cats', 'dogs']\n",
    "data = []"
   ]
  },
  {
   "cell_type": "code",
   "execution_count": 93,
   "id": "493fbd9f-d833-48fe-bc8f-510fc8e7bb43",
   "metadata": {},
   "outputs": [],
   "source": [
    "\n",
    "for category in categories:\n",
    "    path=os.path.join(dir,category)\n",
    "    label=categories.index(category)\n",
    "    for img in os.listdir(path):\n",
    "            imgpath=os.path.join(path,img)\n",
    "            pet_img=cv2.imread(imgpath,0)\n",
    "            try:\n",
    "                pet_img=cv2.resize(pet_img,(50,50))\n",
    "                image=np.array(pet_img).flatten()\n",
    "                data.append([image,label])\n",
    "            except Exception as e:\n",
    "                pass"
   ]
  },
  {
   "cell_type": "code",
   "execution_count": 94,
   "id": "41cfb7d6-d2a8-413b-b9e9-3be10cf64d51",
   "metadata": {},
   "outputs": [],
   "source": [
    "pick_in=open('data1.pickle','wb')\n",
    "pickle.dump(data,pick_in)\n",
    "pick_in.close()"
   ]
  },
  {
   "cell_type": "code",
   "execution_count": 95,
   "id": "84661d37-50e5-4a04-9218-48db0010073e",
   "metadata": {},
   "outputs": [],
   "source": [
    "pick_in=open('data1.pickle','rb')\n",
    "data=pickle.load(pick_in)\n",
    "pick_in.close()"
   ]
  },
  {
   "cell_type": "code",
   "execution_count": 96,
   "id": "585fd90c-082e-40df-8ecf-cc02f3a82a9f",
   "metadata": {},
   "outputs": [],
   "source": [
    "random.shuffle(data)\n",
    "features=[]\n",
    "labels=[]\n",
    "\n",
    "for feature, label in data:\n",
    "    features.append(feature)\n",
    "    labels.append(label)"
   ]
  },
  {
   "cell_type": "code",
   "execution_count": 97,
   "id": "a8ee2f80-9347-4016-ab27-3adfd286ce9e",
   "metadata": {},
   "outputs": [],
   "source": [
    "xtrain, xtest, ytrain,ytest= train_test_split(features, labels, test_size = 0.03)"
   ]
  },
  {
   "cell_type": "code",
   "execution_count": 98,
   "id": "3d865425-bc78-4e61-9e6c-5c215f90fd65",
   "metadata": {},
   "outputs": [
    {
     "name": "stdout",
     "output_type": "stream",
     "text": [
      "Accuracy is:  0.639344262295082\n",
      "Prediction is:  Dog\n"
     ]
    },
    {
     "data": {
      "image/png": "[encoded data removed]",
      "text/plain": [
       "<Figure size 640x480 with 1 Axes>"
      ]
     },
     "metadata": {},
     "output_type": "display_data"
    }
   ],
   "source": [
    "model = SVC(C=1,kernel='poly',gamma= 'auto')\n",
    "model.fit(xtrain, ytrain)\n",
    "#pick=open('test_set.zip','rb')\n",
    "#model=pickle.load(pick)\n",
    "#pick.close()\n",
    "prediction=model.predict(xtest)\n",
    "\n",
    "accuracy=model.score(xtest,ytest)\n",
    "\n",
    "categories=['Cat', 'Dog']\n",
    "\n",
    "print('Accuracy is: ', accuracy)\n",
    "print('Prediction is: ', categories[prediction[0]])\n",
    "\n",
    "mypet=xtest[0].reshape(50,50)\n",
    "plt.imshow(mypet, cmap='gray')\n",
    "plt.show()"
   ]
  },
  {
   "cell_type": "code",
   "execution_count": null,
   "id": "108fec50-1abc-4216-bd37-262898760414",
   "metadata": {},
   "outputs": [],
   "source": []
  }
 ],
 "metadata": {
  "kernelspec": {
   "display_name": "Python 3 (ipykernel)",
   "language": "python",
   "name": "python3"
  },
  "language_info": {
   "codemirror_mode": {
    "name": "ipython",
    "version": 3
   },
   "file_extension": ".py",
   "mimetype": "text/x-python",
   "name": "python",
   "nbconvert_exporter": "python",
   "pygments_lexer": "ipython3",
   "version": "3.11.7"
  }
 },
 "nbformat": 4,
 "nbformat_minor": 5
}
